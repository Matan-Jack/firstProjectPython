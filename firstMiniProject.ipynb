{
 "cells": [
  {
   "cell_type": "code",
   "execution_count": null,
   "metadata": {
    "tags": [
     "Part1- A"
    ]
   },
   "outputs": [],
   "source": [
    "''' \n",
    "General Neuron:\n",
    "   |______Sensory Neuron:\n",
    "   |            |____Photoreceptor\n",
    "   |            |____Mechanoreceptor\n",
    "   |\n",
    "   |______Motor Neuron:\n",
    "                |____Alpha Motor Neuron\n",
    "                |____Gamma Motor Neuron\n",
    "'''"
   ]
  },
  {
   "cell_type": "code",
   "execution_count": null,
   "metadata": {
    "tags": [
     "Installs"
    ]
   },
   "outputs": [],
   "source": [
    "pip install numpy matplotlib panda"
   ]
  },
  {
   "cell_type": "code",
   "execution_count": null,
   "metadata": {
    "tags": [
     "Part1-B"
    ]
   },
   "outputs": [],
   "source": [
    "# A generic neuron with basic properties and functions common to all neuron types.\n",
    "class GeneralNeuron:\n",
    "    # Constructor (with defualt value for firing_rate)\n",
    "    def __init__(self, firing_rate=0.0):\n",
    "        self.firing_rate = firing_rate\n",
    "\n",
    "    # Calculates a firing rate based on the strength of that stimulus.\n",
    "    def Activate(self, stimulus):\n",
    "        pass\n",
    "\n",
    "# A neuron that detects and responds to external stimuli. Each sensory neuron is sensitive to a specific type of stimulus.\n",
    "class SensoryNeuron(GeneralNeuron):\n",
    "    # Constructor\n",
    "    def __init__(self, firing_rate, receptor_type):\n",
    "        super().__init__(firing_rate)\n",
    "        self.receptor_type = receptor_type\n",
    "\n",
    "# Process the specific stimulus and activate the neuron\n",
    "    def SenseStimulus(self):\n",
    "        pass\n",
    "\n",
    "# A neuron responsible for initiating muscle movement by sending activation signals to a target muscle.\n",
    "class MotorNeuron(GeneralNeuron):\n",
    "    # Constructor\n",
    "    def __init__(self, firing_rate, target_muscle):\n",
    "        super().__init__(firing_rate)\n",
    "        self.target_muscle = target_muscle\n",
    "\n",
    "    # Trigger a response in the target muscle\n",
    "    def ControlMuscle(self):\n",
    "        pass\n",
    "\n",
    "# A sensory neuron specifically sensitive to light.\n",
    "class Photoreceptor(SensoryNeuron):\n",
    "    # Constructor\n",
    "    def __init__(self, firing_rate):\n",
    "        super().__init__(firing_rate, receptor_type=\"light\")\n",
    "\n",
    "    # Activate based on light intensity\n",
    "    def LightDetection(self, light_intensity):\n",
    "        pass\n",
    "\n",
    "# A sensory neuron that responds to pressure.\n",
    "class Mechanoreceptor(SensoryNeuron):\n",
    "    # Constructor\n",
    "    def __init__(self, firing_rate):\n",
    "        super().__init__(firing_rate, receptor_type=\"pressure\")\n",
    "\n",
    "    # Activate based on pressure level\n",
    "    def PressureDetection(self, pressure):\n",
    "        pass\n",
    "\n",
    "# A motor neuron that controls skeletal muscles.\n",
    "class AlphaMotorNeuron(MotorNeuron):\n",
    "    # Constructor\n",
    "    def __init__(self, firing_rate):\n",
    "        super().__init__(firing_rate, target_muscle=\"skeletal muscle\")\n",
    "\n",
    "    # Initiate muscle contraction or movement\n",
    "    def SkeletalMuscleControl(self):\n",
    "        pass\n",
    "\n",
    "# A motor neuron that controls muscle spindles, helping regulate muscle tone.\n",
    "class GammaMotorNeuron(MotorNeuron):\n",
    "    # Constructor\n",
    "    def __init__(self, firing_rate):\n",
    "        super().__init__(firing_rate, target_muscle=\"muscle spindle\")\n",
    "\n",
    "    # Adjust muscle spindle tension\n",
    "    def MuscleSpindleControl(self):\n",
    "        pass"
   ]
  },
  {
   "cell_type": "code",
   "execution_count": null,
   "metadata": {
    "tags": [
     "Part2- Q1"
    ]
   },
   "outputs": [],
   "source": [
    "import numpy as np\n",
    "import matplotlib.pyplot as plt\n",
    "\n",
    "def calculateExtrime(arr: np.array):\n",
    "    '''The np.diff function calculates the difference between adjacent values ​​in the array.\n",
    "    I use this to calculate the rate of change (slope) between adjacent points in the signal.\n",
    "    This helps me detect changes in direction (increase or decrease in the sine wave).'''\n",
    "    slope = np.diff(arr)\n",
    "\n",
    "    '''I use this logic to detect local maxima and minima:\n",
    "    (slope[:-1] > 0) checks where the slope is positive (ascending) except for the last value.\n",
    "    (slope[1:] < 0) checks where the slope is negative (descending) except for the first value.\n",
    "    If the slope is positive and then becomes negative, this is a local maximum (peak).\n",
    "    I use np.where to find the indices where the condition is true.\n",
    "    The result is an index list, but since np.diff returns differences between adjacent values,\n",
    "    the extreme points in the original array are always one step ahead. We add 1 to correct this.'''\n",
    "    maxima = np.where((slope[:-1] > 0) & (slope[1:] < 0))[0] + 1\n",
    "\n",
    "    minima = np.where((slope[:-1] < 0) & (slope[1:] > 0))[0] + 1\n",
    "\n",
    "    # Return two values: the maxima values and minima values.\n",
    "    return maxima, minima\n",
    "\n",
    "def sinusoidalSignal(arr: np.array):\n",
    "    # Set the number of steps to divide the signal by 5. This means I want to reduce the array by 20%.\n",
    "    steps = 5 \n",
    "    \n",
    "    # Calculate the size of the sampled array by dividing the original array length by 'steps'.\n",
    "    # Ensure that there is at least one value in the new array (using max to avoid zero division).\n",
    "    size = max(len(arr) // steps, 1)\n",
    "\n",
    "    # calculateExtreme function.\n",
    "    maxima, minima = calculateExtrime(arr)\n",
    "    \n",
    "    '''I use np.linspace to create an array of evenly spaced points, ensuring 20% of the original points are selected.\n",
    "    np.linspace returns float values by default, so I convert them to integers (dtype=int) for indexing the array.'''\n",
    "    sampledPoint = np.linspace(0, len(arr) - 1, size, dtype=int)\n",
    "    \n",
    "    '''I use np.concatenate to combine the sampled points, maxima, and minima into a single array of indices.\n",
    "    Then, np.unique ensures there are no duplicate indices by returning only unique values.'''\n",
    "    all_indices = np.unique(np.concatenate((sampledPoint, maxima, minima)))\n",
    "    \n",
    "    # Return two values: the values in the original array at the indices I calculated, and the indices themselves.\n",
    "    return arr[all_indices], all_indices\n",
    "\n",
    "# Below is the code to verify the functionality of the implementation:\n",
    "\n",
    "# Generate a time array from 0 to 1 second with a step size of 0.01 seconds (i.e., time is from 0 to 1, with 100 points).\n",
    "time = np.arange(0, 1, 0.01)\n",
    "\n",
    "# Set the frequency of the sinusoidal signal to 5 Hz (5 cycles per second).\n",
    "frequency = 5  \n",
    "\n",
    "# Create the array of sinusoidal signal using the sin function with the given frequency.\n",
    "arr = np.sin(2 * np.pi * frequency * time)\n",
    "\n",
    "# Call calculateExtreme function.\n",
    "maxima, minima = calculateExtrime(arr)\n",
    "\n",
    "# Call the function to downsample the sinusoidal signal.\n",
    "sampleArr, sampleIndices = sinusoidalSignal(arr)\n",
    "\n",
    "# Map the sampled indices to their corresponding time values.\n",
    "newTime = time[sampleIndices]\n",
    "\n",
    "# Print the length of the original array.\n",
    "print(\"The length of the original array:\", len(arr))\n",
    "\n",
    "# Print the length of the sampled array.\n",
    "print(\"The length of the sampled array:\", len(sampleArr))\n",
    "\n",
    "# Visualization:\n",
    "# Plot the original signal in orange.\n",
    "plt.plot(time, arr, label=\"ORIGINAL SIGNALS ARRAY\", color='orange')\n",
    "\n",
    "# Plot the downsampled signal in blue.\n",
    "plt.plot(newTime, sampleArr, label=\"REDUCED SIGNAL ARRAY\", color='cyan')\n",
    "\n",
    "# Mark and scatter the local maxima (red points).\n",
    "plt.scatter(time[maxima], arr[maxima], label=\"EXTREME POINTS\", color='black',)\n",
    "\n",
    "# Mark and scatter the local minima (red points).\n",
    "plt.scatter(time[minima], arr[minima], color='black')\n",
    "\n",
    "# Add a title and labels to the plot.\n",
    "plt.title('Sampling a sine signal while preserving extreme points')\n",
    "plt.xlabel('Time(seconds)')\n",
    "plt.ylabel('sinusoidal signal')\n",
    "\n",
    "# Display the legend in the lower right corner with a font size of 6.\n",
    "plt.legend(loc='lower right', fontsize=6)\n",
    "# Prints squares on the screen.\n",
    "plt.grid(True)\n",
    "# Show the graph.\n",
    "plt.show()\n"
   ]
  },
  {
   "cell_type": "code",
   "execution_count": null,
   "metadata": {
    "tags": [
     "Install"
    ]
   },
   "outputs": [],
   "source": [
    "!pip install pandas"
   ]
  },
  {
   "cell_type": "code",
   "execution_count": null,
   "metadata": {
    "tags": [
     "Part2-Q2: firstDot"
    ]
   },
   "outputs": [],
   "source": [
    "import pandas as pd\n",
    "import matplotlib.pyplot as plt\n",
    "\n",
    "# Reading the CSV file and storing it in the variable 'file'\n",
    "file = pd.read_csv(\"C:/Users/matan/Downloads/laptop_price - dataset.csv\")\n",
    "\n",
    "# Creating a figure with a specific size for the plot\n",
    "plt.figure(figsize = (25,10))\n",
    "\n",
    "'''when specify only file['Price (Euro)'], each index is automatically concatenated with its corresponding price at the file.\n",
    "linewidth controls the thickness of the plot line, linestyle specifies a solid line,\n",
    "marker specifies the marker type, and color sets the line color to orange'''\n",
    "plt.plot(file['Price (Euro)'], linewidth=0.7, linestyle='-', marker='^', color='orange')\n",
    "\n",
    "# Adding a title to the plot with a specific font size\n",
    "plt.title('The price of all the laptops', fontsize=20)\n",
    "\n",
    "# Adding a label to the x-axis with a specific font size\n",
    "plt.xlabel('Laptop index', fontsize=15)\n",
    "\n",
    "# Adding a label to the y-axis with a specific font size\n",
    "plt.ylabel('Price (Euro)', fontsize=15)\n",
    "\n",
    "# Prints squares on the screen.\n",
    "plt.grid(True)\n",
    "\n",
    "# Show the graph.\n",
    "plt.show()"
   ]
  },
  {
   "cell_type": "code",
   "execution_count": null,
   "metadata": {
    "tags": [
     "Part2-Q2:secondDot"
    ]
   },
   "outputs": [],
   "source": [
    "import pandas as pd  \n",
    "import matplotlib.pyplot as plt  \n",
    "\n",
    "# Reading the CSV file and storing it in the variable 'file'\n",
    "file = pd.read_csv(\"C:/Users/matan/Downloads/laptop_price - dataset.csv\")\n",
    "\n",
    "# groupby(): Groups data based on the 'Company' column\n",
    "# mean(): Calculates the mean (average) for the 'Price (Euro)' column within each group\n",
    "# sort_values(): Sorts the average prices in escending order (I want it in desending order- False)\n",
    "company_avg_price = file.groupby('Company')['Price (Euro)'].mean().sort_values(ascending=False)\n",
    "\n",
    "# idxmax(): Returns the index (in this case, the company name) corresponding to the maximum value in the series\n",
    "highest_avg_price_company = company_avg_price.idxmax()  \n",
    "\n",
    "# max(): Returns the maximum value in the series (the highest average price)\n",
    "highest_avg_price = company_avg_price.max()\n",
    "\n",
    "# Prints information\n",
    "print(\"Average laptop price for each company:\") \n",
    "print(company_avg_price) \n",
    "\n",
    "# format(): Formats the string with placeholders for variables (e.g., company name and price) \n",
    "# {:.2f}: is a string formatting specifier that ensures the value is rounded with 2 decimal places\n",
    "print(\"\\nCompany with the most expensive laptops on average:\")  \n",
    "print(\"The highest avg price company: {} \\nThe highest average price: {:.2f} Euro\".format(highest_avg_price_company, highest_avg_price))\n",
    "\n",
    "# figure(): Sets the figure size for the plot\n",
    "plt.figure(figsize=(25, 10))  \n",
    "\n",
    "# plot(): Creates a bar chart with the average prices\n",
    "# kind='bar': Specifies the bar chart type\n",
    "# color: Sets the color of the bars\n",
    "# edgecolor: Defines the border color of the bars\n",
    "company_avg_price.plot(kind='bar', color='pink', edgecolor='black')  \n",
    "\n",
    "# Adding a title to the plot with a specific font size\n",
    "plt.title('Average laptop price for each company', fontsize=20)\n",
    "\n",
    "# Adds a label to the x-axis\n",
    "plt.xlabel('COMPANY NAME')  \n",
    "\n",
    "# Adds a label to the y-axis\n",
    "plt.ylabel('AVERAGE PRICES')  \n",
    "\n",
    "# Prints squares on the screen.\n",
    "plt.grid(True)  \n",
    "\n",
    "# show the graph.\n",
    "plt.show()  \n"
   ]
  },
  {
   "cell_type": "code",
   "execution_count": null,
   "metadata": {
    "tags": [
     "Part2-Q2:thirdDot"
    ]
   },
   "outputs": [
    {
     "name": "stdout",
     "output_type": "stream",
     "text": [
      "\n",
      "Unique operating systems after cleaning:\n",
      "[None 'No OS' 'Windows' 'MacOS' 'Linux' 'Chrome']\n"
     ]
    }
   ],
   "source": [
    "import pandas as pd\n",
    "\n",
    "def mapping(os_name):\n",
    "    if 'Windows' in os_name:\n",
    "        return 'Windows'\n",
    "    if 'Chrome' in os_name:\n",
    "        return 'Chrome'\n",
    "    if 'Linux' in os_name:\n",
    "        return 'Linux'\n",
    "    if 'Mac' in os_name:\n",
    "        return 'MacOS'\n",
    "    if 'No OS' in os_name:\n",
    "        return 'No OS'\n",
    "    if 'Android' in os_name:\n",
    "        return 'Android'\n",
    "\n",
    "# Reading the CSV file and storing it in the variable 'file'\n",
    "file = pd.read_csv(\"C:/Users/matan/Downloads/laptop_price - dataset.csv\")\n",
    "\n",
    "list_os = file['OpSys'].unique()\n",
    "\n",
    "# Replace values in the 'OpSys' column based on the mapping\n",
    "# This replaces the inconsistent OS names in the column with their uniform counterparts\n",
    "file['OpSys'] = file['OpSys'].apply(mapping)\n",
    "\n",
    "# Get the unique operating systems after cleaning\n",
    "# 'unique()' retrieves all distinct values in the 'OpSys' column\n",
    "unique_os = file['OpSys'].unique()\n",
    "\n",
    "# Print the unique operating systems after cleaning\n",
    "print(\"\\nUnique operating systems after cleaning:\")\n",
    "print(unique_os)\n"
   ]
  }
 ],
 "metadata": {
  "kernelspec": {
   "display_name": "Python 3",
   "language": "python",
   "name": "python3"
  },
  "language_info": {
   "codemirror_mode": {
    "name": "ipython",
    "version": 3
   },
   "file_extension": ".py",
   "mimetype": "text/x-python",
   "name": "python",
   "nbconvert_exporter": "python",
   "pygments_lexer": "ipython3",
   "version": "3.13.0"
  }
 },
 "nbformat": 4,
 "nbformat_minor": 2
}
