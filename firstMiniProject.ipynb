{
 "cells": [
  {
   "cell_type": "code",
   "execution_count": null,
   "metadata": {},
   "outputs": [],
   "source": [
    "'''\n",
    "General Neuron:\n",
    "   |______Sensory Neuron:\n",
    "   |            |____Photoreceptor\n",
    "   |            |____Mechanoreceptor\n",
    "   |\n",
    "   |______Motor Neuron:\n",
    "                |____Alpha Motor Neuron\n",
    "                |____Gamma Motor Neuron\n",
    "'''"
   ]
  },
  {
   "cell_type": "code",
   "execution_count": 2,
   "metadata": {},
   "outputs": [
    {
     "name": "stdout",
     "output_type": "stream",
     "text": [
      "Defaulting to user installation because normal site-packages is not writeable\n",
      "Requirement already satisfied: numpy in c:\\users\\matan\\appdata\\roaming\\python\\python313\\site-packages (2.1.3)\n",
      "Requirement already satisfied: matplotlib in c:\\users\\matan\\appdata\\roaming\\python\\python313\\site-packages (3.9.3)\n",
      "Collecting panda\n",
      "  Downloading panda-0.3.1.tar.gz (5.8 kB)\n",
      "  Installing build dependencies: started\n",
      "  Installing build dependencies: finished with status 'done'\n",
      "  Getting requirements to build wheel: started\n",
      "  Getting requirements to build wheel: finished with status 'done'\n",
      "  Preparing metadata (pyproject.toml): started\n",
      "  Preparing metadata (pyproject.toml): finished with status 'done'\n",
      "Requirement already satisfied: contourpy>=1.0.1 in c:\\users\\matan\\appdata\\roaming\\python\\python313\\site-packages (from matplotlib) (1.3.1)\n",
      "Requirement already satisfied: cycler>=0.10 in c:\\users\\matan\\appdata\\roaming\\python\\python313\\site-packages (from matplotlib) (0.12.1)\n",
      "Requirement already satisfied: fonttools>=4.22.0 in c:\\users\\matan\\appdata\\roaming\\python\\python313\\site-packages (from matplotlib) (4.55.1)\n",
      "Requirement already satisfied: kiwisolver>=1.3.1 in c:\\users\\matan\\appdata\\roaming\\python\\python313\\site-packages (from matplotlib) (1.4.7)\n",
      "Requirement already satisfied: packaging>=20.0 in c:\\users\\matan\\appdata\\roaming\\python\\python313\\site-packages (from matplotlib) (24.2)\n",
      "Requirement already satisfied: pillow>=8 in c:\\users\\matan\\appdata\\roaming\\python\\python313\\site-packages (from matplotlib) (11.0.0)\n",
      "Requirement already satisfied: pyparsing>=2.3.1 in c:\\users\\matan\\appdata\\roaming\\python\\python313\\site-packages (from matplotlib) (3.2.0)\n",
      "Requirement already satisfied: python-dateutil>=2.7 in c:\\users\\matan\\appdata\\roaming\\python\\python313\\site-packages (from matplotlib) (2.9.0.post0)\n",
      "Requirement already satisfied: setuptools in c:\\users\\matan\\appdata\\roaming\\python\\python313\\site-packages (from panda) (75.5.0)\n",
      "Requirement already satisfied: requests in c:\\users\\matan\\appdata\\roaming\\python\\python313\\site-packages (from panda) (2.32.3)\n",
      "Requirement already satisfied: six>=1.5 in c:\\users\\matan\\appdata\\roaming\\python\\python313\\site-packages (from python-dateutil>=2.7->matplotlib) (1.16.0)\n",
      "Requirement already satisfied: charset-normalizer<4,>=2 in c:\\users\\matan\\appdata\\roaming\\python\\python313\\site-packages (from requests->panda) (3.4.0)\n",
      "Requirement already satisfied: idna<4,>=2.5 in c:\\users\\matan\\appdata\\roaming\\python\\python313\\site-packages (from requests->panda) (3.10)\n",
      "Requirement already satisfied: urllib3<3,>=1.21.1 in c:\\users\\matan\\appdata\\roaming\\python\\python313\\site-packages (from requests->panda) (2.2.3)\n",
      "Requirement already satisfied: certifi>=2017.4.17 in c:\\users\\matan\\appdata\\roaming\\python\\python313\\site-packages (from requests->panda) (2024.8.30)\n",
      "Building wheels for collected packages: panda\n",
      "  Building wheel for panda (pyproject.toml): started\n",
      "  Building wheel for panda (pyproject.toml): finished with status 'done'\n",
      "  Created wheel for panda: filename=panda-0.3.1-py3-none-any.whl size=7244 sha256=e30a51af6de04fb58b49f3c51835d9b32261eb6c5ef65ce6be57200e89e675a7\n",
      "  Stored in directory: c:\\users\\matan\\appdata\\local\\pip\\cache\\wheels\\53\\7c\\f7\\d3267739bc9dfdfc43724391337c9955e7d5b5830888d735e3\n",
      "Successfully built panda\n",
      "Installing collected packages: panda\n",
      "Successfully installed panda-0.3.1\n",
      "Note: you may need to restart the kernel to use updated packages.\n"
     ]
    }
   ],
   "source": [
    "pip install numpy matplotlib panda"
   ]
  },
  {
   "cell_type": "code",
   "execution_count": null,
   "metadata": {},
   "outputs": [],
   "source": []
  }
 ],
 "metadata": {
  "kernelspec": {
   "display_name": "Python 3",
   "language": "python",
   "name": "python3"
  },
  "language_info": {
   "codemirror_mode": {
    "name": "ipython",
    "version": 3
   },
   "file_extension": ".py",
   "mimetype": "text/x-python",
   "name": "python",
   "nbconvert_exporter": "python",
   "pygments_lexer": "ipython3",
   "version": "3.13.0"
  }
 },
 "nbformat": 4,
 "nbformat_minor": 2
}
